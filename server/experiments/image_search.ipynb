{
 "cells": [
  {
   "cell_type": "code",
   "execution_count": 1,
   "metadata": {},
   "outputs": [],
   "source": [
    "# Searching images in a folder based on id\n",
    "\n",
    "import os"
   ]
  },
  {
   "cell_type": "code",
   "execution_count": 11,
   "metadata": {},
   "outputs": [
    {
     "name": "stdout",
     "output_type": "stream",
     "text": [
      "Image found at: ../data/images\\069\\0690992003.jpg\n"
     ]
    }
   ],
   "source": [
    "import os\n",
    "import glob\n",
    "from PIL import Image\n",
    "\n",
    "\n",
    "def find_image(folder_path, image_name):\n",
    "    # Search for the image in the given folder and its subfolders\n",
    "    image_path = glob.glob(os.path.join(folder_path, '**', image_name), recursive=True)\n",
    "    \n",
    "    # Check if any matching image paths were found\n",
    "    if image_path:\n",
    "        return image_path[0]  # Return the first matching image path\n",
    "    else:\n",
    "        return None  # Image not found\n",
    "\n",
    "# Usage\n",
    "folder_path = '../data/images/'\n",
    "image_name = '0690992003.jpg'  # Replace with your image name\n",
    "\n",
    "image_path = find_image(folder_path, image_name)\n",
    "if image_path:\n",
    "    img = Image.open(image_path)\n",
    "    img.show()\n",
    "    print(f\"Image found at: {image_path}\")\n",
    "else:\n",
    "    print(\"Image not found\")\n"
   ]
  }
 ],
 "metadata": {
  "kernelspec": {
   "display_name": "Python 3",
   "language": "python",
   "name": "python3"
  },
  "language_info": {
   "codemirror_mode": {
    "name": "ipython",
    "version": 3
   },
   "file_extension": ".py",
   "mimetype": "text/x-python",
   "name": "python",
   "nbconvert_exporter": "python",
   "pygments_lexer": "ipython3",
   "version": "3.12.7"
  }
 },
 "nbformat": 4,
 "nbformat_minor": 2
}
